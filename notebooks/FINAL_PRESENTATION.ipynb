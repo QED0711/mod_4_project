{
 "cells": [
  {
   "cell_type": "markdown",
   "metadata": {},
   "source": [
    "# Spotify's Data Problem\n",
    "\n",
    "### Authors:\n",
    "Quinn Dizon  \n",
    "Alan Gayahan\n",
    "\n",
    "### Summary: \n",
    "\n",
    "Spotify collects data about all the tracks on its platform. These are features that quantify some aspect of the music, such as _tempo_, _danceability_, and overall positiveness (_valence_), as well as categorical features like _genre_. Spotify provides easy access to this data through its API.  \n",
    "\n",
    "While the data appears to be clean, scaled, and ready for predictive analysis (linear regression, logistic regression, time series analysis), we find that the metrics provided by Spotify do not lend themselves to this approach. Our analysis discusses some reasons why we believe this is the case, and some alternative methods that may yield better results for this data.  \n",
    "\n",
    "### Data:\n",
    "* [Kaggle Spotify Dataset](https://www.kaggle.com/grasslover/spotify-music-genre-list)\n",
    "* [Spotify API](https://developer.spotify.com/documentation/web-api/) (for supplemental time series information)\n",
    "\n",
    "***\n",
    "## Table of Contents\n"
   ]
  },
  {
   "cell_type": "markdown",
   "metadata": {},
   "source": [
    "## Data Example\n",
    "Below is an example from our finalized dataset."
   ]
  },
  {
   "cell_type": "code",
   "execution_count": 9,
   "metadata": {},
   "outputs": [],
   "source": [
    "import pandas as pd\n",
    "pd.options.display.max_columns = 999"
   ]
  },
  {
   "cell_type": "code",
   "execution_count": 10,
   "metadata": {},
   "outputs": [
    {
     "data": {
      "text/html": [
       "<div>\n",
       "<style scoped>\n",
       "    .dataframe tbody tr th:only-of-type {\n",
       "        vertical-align: middle;\n",
       "    }\n",
       "\n",
       "    .dataframe tbody tr th {\n",
       "        vertical-align: top;\n",
       "    }\n",
       "\n",
       "    .dataframe thead th {\n",
       "        text-align: right;\n",
       "    }\n",
       "</style>\n",
       "<table border=\"1\" class=\"dataframe\">\n",
       "  <thead>\n",
       "    <tr style=\"text-align: right;\">\n",
       "      <th></th>\n",
       "      <th>Name</th>\n",
       "      <th>Danceability</th>\n",
       "      <th>Energy</th>\n",
       "      <th>Key</th>\n",
       "      <th>Loudness</th>\n",
       "      <th>Mode</th>\n",
       "      <th>Speechness</th>\n",
       "      <th>Acousticness</th>\n",
       "      <th>Instrumentalness</th>\n",
       "      <th>Liveness</th>\n",
       "      <th>Valence</th>\n",
       "      <th>Tempo</th>\n",
       "      <th>Type</th>\n",
       "      <th>ID</th>\n",
       "      <th>Uri</th>\n",
       "      <th>Ref_Track</th>\n",
       "      <th>URL_features</th>\n",
       "      <th>Duration_ms</th>\n",
       "      <th>time_signature</th>\n",
       "      <th>Genre</th>\n",
       "      <th>Expanded_genre</th>\n",
       "      <th>artist_names</th>\n",
       "      <th>artist_ids</th>\n",
       "      <th>release_date</th>\n",
       "      <th>release_date_precision</th>\n",
       "      <th>Super_genre</th>\n",
       "    </tr>\n",
       "  </thead>\n",
       "  <tbody>\n",
       "    <tr>\n",
       "      <th>0</th>\n",
       "      <td>YuveYuveYu</td>\n",
       "      <td>0.624</td>\n",
       "      <td>0.857</td>\n",
       "      <td>10.0</td>\n",
       "      <td>-6.250</td>\n",
       "      <td>0.0</td>\n",
       "      <td>0.0542</td>\n",
       "      <td>0.020800</td>\n",
       "      <td>0.206000</td>\n",
       "      <td>0.110</td>\n",
       "      <td>0.324</td>\n",
       "      <td>131.926</td>\n",
       "      <td>audio_features</td>\n",
       "      <td>6J2VvzKwWc2f0JP5RQVZjq</td>\n",
       "      <td>spotify:track:6J2VvzKwWc2f0JP5RQVZjq</td>\n",
       "      <td>https://api.spotify.com/v1/tracks/6J2VvzKwWc2f0JP5RQVZjq</td>\n",
       "      <td>https://api.spotify.com/v1/audio-analysis/6J2VvzKwWc2f0JP5RQVZjq</td>\n",
       "      <td>282920.0</td>\n",
       "      <td>4.0</td>\n",
       "      <td>celticmetal</td>\n",
       "      <td>celtic metal</td>\n",
       "      <td>The HU</td>\n",
       "      <td>0b2B3PwcYzQAhuJacmcYgc</td>\n",
       "      <td>2018-10-14</td>\n",
       "      <td>day</td>\n",
       "      <td>metal</td>\n",
       "    </tr>\n",
       "    <tr>\n",
       "      <th>1</th>\n",
       "      <td>Gloryhammer</td>\n",
       "      <td>0.517</td>\n",
       "      <td>0.916</td>\n",
       "      <td>0.0</td>\n",
       "      <td>-4.933</td>\n",
       "      <td>1.0</td>\n",
       "      <td>0.0559</td>\n",
       "      <td>0.000182</td>\n",
       "      <td>0.001910</td>\n",
       "      <td>0.306</td>\n",
       "      <td>0.444</td>\n",
       "      <td>135.996</td>\n",
       "      <td>audio_features</td>\n",
       "      <td>4HA34COgxgVJ6zK88UN4Ik</td>\n",
       "      <td>spotify:track:4HA34COgxgVJ6zK88UN4Ik</td>\n",
       "      <td>https://api.spotify.com/v1/tracks/4HA34COgxgVJ6zK88UN4Ik</td>\n",
       "      <td>https://api.spotify.com/v1/audio-analysis/4HA34COgxgVJ6zK88UN4Ik</td>\n",
       "      <td>300320.0</td>\n",
       "      <td>4.0</td>\n",
       "      <td>celticmetal</td>\n",
       "      <td>celtic metal</td>\n",
       "      <td>Gloryhammer</td>\n",
       "      <td>7dkEByOe0oHqc54qU4hwzV</td>\n",
       "      <td>2019-04-12</td>\n",
       "      <td>day</td>\n",
       "      <td>metal</td>\n",
       "    </tr>\n",
       "    <tr>\n",
       "      <th>2</th>\n",
       "      <td>Nostos</td>\n",
       "      <td>0.251</td>\n",
       "      <td>0.894</td>\n",
       "      <td>8.0</td>\n",
       "      <td>-4.103</td>\n",
       "      <td>0.0</td>\n",
       "      <td>0.0570</td>\n",
       "      <td>0.014400</td>\n",
       "      <td>0.000000</td>\n",
       "      <td>0.123</td>\n",
       "      <td>0.297</td>\n",
       "      <td>114.223</td>\n",
       "      <td>audio_features</td>\n",
       "      <td>3W6Xik6Xxf06JuUoZSATlD</td>\n",
       "      <td>spotify:track:3W6Xik6Xxf06JuUoZSATlD</td>\n",
       "      <td>https://api.spotify.com/v1/tracks/3W6Xik6Xxf06JuUoZSATlD</td>\n",
       "      <td>https://api.spotify.com/v1/audio-analysis/3W6Xik6Xxf06JuUoZSATlD</td>\n",
       "      <td>175353.0</td>\n",
       "      <td>4.0</td>\n",
       "      <td>celticmetal</td>\n",
       "      <td>celtic metal</td>\n",
       "      <td>Orion's Reign,Minniva</td>\n",
       "      <td>3hRL14TJtJqr7i1IH3D1pU,50KIyycosYOGrBHfLaI1Ju</td>\n",
       "      <td>2018-10-05</td>\n",
       "      <td>day</td>\n",
       "      <td>metal</td>\n",
       "    </tr>\n",
       "    <tr>\n",
       "      <th>3</th>\n",
       "      <td>Yggdrasil</td>\n",
       "      <td>0.469</td>\n",
       "      <td>0.743</td>\n",
       "      <td>1.0</td>\n",
       "      <td>-5.570</td>\n",
       "      <td>0.0</td>\n",
       "      <td>0.0272</td>\n",
       "      <td>0.002220</td>\n",
       "      <td>0.000111</td>\n",
       "      <td>0.276</td>\n",
       "      <td>0.481</td>\n",
       "      <td>86.953</td>\n",
       "      <td>audio_features</td>\n",
       "      <td>2gGveBaLJQMtJ43X4UL5kH</td>\n",
       "      <td>spotify:track:2gGveBaLJQMtJ43X4UL5kH</td>\n",
       "      <td>https://api.spotify.com/v1/tracks/2gGveBaLJQMtJ43X4UL5kH</td>\n",
       "      <td>https://api.spotify.com/v1/audio-analysis/2gGveBaLJQMtJ43X4UL5kH</td>\n",
       "      <td>272292.0</td>\n",
       "      <td>4.0</td>\n",
       "      <td>celticmetal</td>\n",
       "      <td>celtic metal</td>\n",
       "      <td>Brothers of Metal</td>\n",
       "      <td>0WPCPYm5IDNtQjuJOGNPcy</td>\n",
       "      <td>2018-11-09</td>\n",
       "      <td>day</td>\n",
       "      <td>metal</td>\n",
       "    </tr>\n",
       "    <tr>\n",
       "      <th>4</th>\n",
       "      <td>Incense&amp;Iron</td>\n",
       "      <td>0.487</td>\n",
       "      <td>0.952</td>\n",
       "      <td>1.0</td>\n",
       "      <td>-4.429</td>\n",
       "      <td>0.0</td>\n",
       "      <td>0.0613</td>\n",
       "      <td>0.000228</td>\n",
       "      <td>0.000000</td>\n",
       "      <td>0.161</td>\n",
       "      <td>0.329</td>\n",
       "      <td>125.993</td>\n",
       "      <td>audio_features</td>\n",
       "      <td>1lRF81A1C9QoCgBcEop2zg</td>\n",
       "      <td>spotify:track:1lRF81A1C9QoCgBcEop2zg</td>\n",
       "      <td>https://api.spotify.com/v1/tracks/1lRF81A1C9QoCgBcEop2zg</td>\n",
       "      <td>https://api.spotify.com/v1/audio-analysis/1lRF81A1C9QoCgBcEop2zg</td>\n",
       "      <td>237933.0</td>\n",
       "      <td>4.0</td>\n",
       "      <td>celticmetal</td>\n",
       "      <td>celtic metal</td>\n",
       "      <td>Powerwolf</td>\n",
       "      <td>5HFkc3t0HYETL4JeEbDB1v</td>\n",
       "      <td>2018-07-13</td>\n",
       "      <td>day</td>\n",
       "      <td>metal</td>\n",
       "    </tr>\n",
       "  </tbody>\n",
       "</table>\n",
       "</div>"
      ],
      "text/plain": [
       "           Name  Danceability  Energy   Key  Loudness  Mode  Speechness  \\\n",
       "0  YuveYuveYu    0.624         0.857   10.0 -6.250     0.0   0.0542       \n",
       "1  Gloryhammer   0.517         0.916   0.0  -4.933     1.0   0.0559       \n",
       "2  Nostos        0.251         0.894   8.0  -4.103     0.0   0.0570       \n",
       "3  Yggdrasil     0.469         0.743   1.0  -5.570     0.0   0.0272       \n",
       "4  Incense&Iron  0.487         0.952   1.0  -4.429     0.0   0.0613       \n",
       "\n",
       "   Acousticness  Instrumentalness  Liveness  Valence    Tempo            Type  \\\n",
       "0  0.020800      0.206000          0.110     0.324    131.926  audio_features   \n",
       "1  0.000182      0.001910          0.306     0.444    135.996  audio_features   \n",
       "2  0.014400      0.000000          0.123     0.297    114.223  audio_features   \n",
       "3  0.002220      0.000111          0.276     0.481    86.953   audio_features   \n",
       "4  0.000228      0.000000          0.161     0.329    125.993  audio_features   \n",
       "\n",
       "                       ID                                   Uri  \\\n",
       "0  6J2VvzKwWc2f0JP5RQVZjq  spotify:track:6J2VvzKwWc2f0JP5RQVZjq   \n",
       "1  4HA34COgxgVJ6zK88UN4Ik  spotify:track:4HA34COgxgVJ6zK88UN4Ik   \n",
       "2  3W6Xik6Xxf06JuUoZSATlD  spotify:track:3W6Xik6Xxf06JuUoZSATlD   \n",
       "3  2gGveBaLJQMtJ43X4UL5kH  spotify:track:2gGveBaLJQMtJ43X4UL5kH   \n",
       "4  1lRF81A1C9QoCgBcEop2zg  spotify:track:1lRF81A1C9QoCgBcEop2zg   \n",
       "\n",
       "                                                  Ref_Track  \\\n",
       "0  https://api.spotify.com/v1/tracks/6J2VvzKwWc2f0JP5RQVZjq   \n",
       "1  https://api.spotify.com/v1/tracks/4HA34COgxgVJ6zK88UN4Ik   \n",
       "2  https://api.spotify.com/v1/tracks/3W6Xik6Xxf06JuUoZSATlD   \n",
       "3  https://api.spotify.com/v1/tracks/2gGveBaLJQMtJ43X4UL5kH   \n",
       "4  https://api.spotify.com/v1/tracks/1lRF81A1C9QoCgBcEop2zg   \n",
       "\n",
       "                                                       URL_features  \\\n",
       "0  https://api.spotify.com/v1/audio-analysis/6J2VvzKwWc2f0JP5RQVZjq   \n",
       "1  https://api.spotify.com/v1/audio-analysis/4HA34COgxgVJ6zK88UN4Ik   \n",
       "2  https://api.spotify.com/v1/audio-analysis/3W6Xik6Xxf06JuUoZSATlD   \n",
       "3  https://api.spotify.com/v1/audio-analysis/2gGveBaLJQMtJ43X4UL5kH   \n",
       "4  https://api.spotify.com/v1/audio-analysis/1lRF81A1C9QoCgBcEop2zg   \n",
       "\n",
       "   Duration_ms  time_signature        Genre Expanded_genre  \\\n",
       "0  282920.0     4.0             celticmetal  celtic metal    \n",
       "1  300320.0     4.0             celticmetal  celtic metal    \n",
       "2  175353.0     4.0             celticmetal  celtic metal    \n",
       "3  272292.0     4.0             celticmetal  celtic metal    \n",
       "4  237933.0     4.0             celticmetal  celtic metal    \n",
       "\n",
       "            artist_names                                     artist_ids  \\\n",
       "0  The HU                 0b2B3PwcYzQAhuJacmcYgc                          \n",
       "1  Gloryhammer            7dkEByOe0oHqc54qU4hwzV                          \n",
       "2  Orion's Reign,Minniva  3hRL14TJtJqr7i1IH3D1pU,50KIyycosYOGrBHfLaI1Ju   \n",
       "3  Brothers of Metal      0WPCPYm5IDNtQjuJOGNPcy                          \n",
       "4  Powerwolf              5HFkc3t0HYETL4JeEbDB1v                          \n",
       "\n",
       "  release_date release_date_precision Super_genre  \n",
       "0  2018-10-14   day                    metal       \n",
       "1  2019-04-12   day                    metal       \n",
       "2  2018-10-05   day                    metal       \n",
       "3  2018-11-09   day                    metal       \n",
       "4  2018-07-13   day                    metal       "
      ]
     },
     "execution_count": 10,
     "metadata": {},
     "output_type": "execute_result"
    }
   ],
   "source": [
    "data = pd.read_csv(\"../data/processed/FINAL.zip\")\n",
    "data.head()"
   ]
  },
  {
   "cell_type": "markdown",
   "metadata": {},
   "source": [
    "A detail data dictionary can be found directly in [Spotify's Api](https://developer.spotify.com/documentation/web-api/reference/tracks/get-audio-features/)."
   ]
  },
  {
   "cell_type": "markdown",
   "metadata": {},
   "source": [
    "## Time Series Analysis: \n",
    "### Number of tracks released in each month/year "
   ]
  },
  {
   "attachments": {},
   "cell_type": "markdown",
   "metadata": {},
   "source": [
    "We began our time series analysis by looking at the release rate of tracks from 1970 to present day. \n",
    "\n",
    "In our initial exploration, we resampled our data by month, and produced the following graph. \n",
    "\n",
    "![image.png](https://github.com/QED0711/mod_4_project/blob/master/images/time_series_month.png?raw=true)\n",
    "\n"
   ]
  },
  {
   "attachments": {},
   "cell_type": "markdown",
   "metadata": {},
   "source": [
    "Although this appears to show strong seasonality, further exploration for the day revealed that _xxxx-01-01_ was used as a placeholder for tracks that had a known release year, but unknown date. The large spikes in the graph shown above all occur on the first of January for each year.   \n",
    "\n",
    "Because of this, we believe this graph is an unreliable representation of actual release dates. \n",
    "\n",
    "To adjust, we resampled our data by year to produce the following graph. \n",
    "\n",
    "![image.png](https://github.com/QED0711/mod_4_project/blob/master/images/time_series_year.png?raw=true)"
   ]
  },
  {
   "cell_type": "markdown",
   "metadata": {},
   "source": [
    "Although no seasonality can be seen in this large scale view, there is a clear and significant upwards trend beginning ca. 2000.  \n",
    "\n",
    "We believe this sharp increase in tracks released per year has to do with the digital revolution. Advancements in recording and music making technology, as well as decreased costs for basic hardware, have made it so a large number of amateur musicians can quickly and easily produce high quality tracks ready for digital release.   \n",
    "\n",
    "_The code for the graphs above can be found in /exploration/qd_072819_timeseries_release_date.ipynb_"
   ]
  },
  {
   "attachments": {},
   "cell_type": "markdown",
   "metadata": {},
   "source": [
    "### Time series analysis of features\n",
    "\n",
    "Still analyzing our time series data, we plotted the behavior of each numeric feature over time. A sample of our findings is displayed below. \n",
    "\n",
    "![image.png](https://github.com/QED0711/mod_4_project/blob/master/images/time_series_features.png?raw=true)"
   ]
  },
  {
   "cell_type": "markdown",
   "metadata": {},
   "source": [
    "As can be seen in the charts above, there is a clear trend for each feature from a state of relatively high variance to a state of relatively little variance. We refer to this as _feature convergence_, as it appears that, over time, these musical features become more and more standardized across all released tracks.  \n",
    "\n",
    "While only a small part of the overall picture, the feature convergence shown here is a good indicator of why these features are losing predictive power over time.\n",
    "\n",
    "_The code for the graphs above can be found in exploration/qd_072719_time_series_exploration.ipynb_"
   ]
  },
  {
   "attachments": {},
   "cell_type": "markdown",
   "metadata": {},
   "source": [
    "## Linear Regression\n",
    "\n",
    "### Predicting feature values based on other features\n",
    "\n",
    "In preparing for a linear regression analysis, we produced the following parirwise graph and correlation graph to see which features have the best correlation and predictive power for other features. \n",
    "\n",
    "![image.png](https://github.com/QED0711/mod_4_project/blob/master/images/feature_plots.png?raw=true)"
   ]
  },
  {
   "attachments": {},
   "cell_type": "markdown",
   "metadata": {},
   "source": [
    "![image.png](https://github.com/QED0711/mod_4_project/blob/master/images/Correlation.png?raw=true)"
   ]
  },
  {
   "cell_type": "markdown",
   "metadata": {},
   "source": [
    "From these charts, we see that there is little correlation between many of the features. In trying to create linear regression models with varying targets, we found that this lack of correlation made for poor predictive results. \n",
    "\n",
    "Our best results came when we tried to predict **_Energy_** from the other features. We were able to get an **adjusted R squared score of near 0.8**. This is likely due to the fact that _Energy_ is moderately correlated with _Loudness_. All other models provided substantially smaller adjusted r squared results, likely due to lack of correlated variables.  \n",
    "\n",
    "This lack of predictive power can likely be attributed to the feature convergence we observed in our time series analysis. Looking to our pairwise plot, we see that the lack of correlation between features is reflected by several uniformly distributed scatter plots.\n",
    "\n",
    "_The full linear regression code can be found in exploration/072919_numerical_linear_regression_exploration.ipynb_"
   ]
  },
  {
   "cell_type": "markdown",
   "metadata": {},
   "source": [
    "***\n",
    "## Logistic Regression\n",
    "\n",
    "### Genre/Style prediction"
   ]
  },
  {
   "attachments": {},
   "cell_type": "markdown",
   "metadata": {},
   "source": [
    "After subsetting our data into a number of _Super Genres_ (e.g. pop, rock, country, etc.), we attempted to see if the feature set would allow us to accurately predict one genre from another.  \n",
    "\n",
    "We began by conducting simple pairwise predictions between two genres. The results for these categorical predictions varied based on which two genres we compared.  \n",
    "\n",
    "In total, we ran more than 300 pairwise logistic regression models. A sample of ROC graphs and AUC scores are displayed below. As can be seen, some models were able to achieve nearly perfect classifications, while others were not. \n",
    "\n",
    "![image.png](https://github.com/QED0711/mod_4_project/blob/master/images/roc_plots.png?raw=true)"
   ]
  },
  {
   "cell_type": "markdown",
   "metadata": {},
   "source": [
    "When we expanded our logistic regression model to predict between multiple genres at once (multinomial logistic regression), we found that our mean accuracy dropped to around 0.44. This, again, likely points to the feature convergence we observed, as these features do not seem to be good predictors of genre in general (even if a few pairs of genres are easily distinguishable).  "
   ]
  },
  {
   "cell_type": "markdown",
   "metadata": {},
   "source": [
    "## Time series analysis accounting for genre "
   ]
  },
  {
   "attachments": {},
   "cell_type": "markdown",
   "metadata": {},
   "source": [
    "Because of our limited success in predicting genres from our data, we returned to our time series analysis and looked at our data as related to specific genres.  \n",
    "\n",
    "For this further genre analysis, we selected the top 5 most produced genres: **_indie, pop, metal, rock, and folk_**.  We then graphed how specific features changed over time as they related to these genres. \n",
    "\n",
    "A sample of our graphs are displayed below. \n",
    "\n",
    "![image.png](https://github.com/QED0711/mod_4_project/blob/master/images/time_series_genres.png?raw=true)\n",
    "\n",
    "_The code for this analysis and the above graph can be found in exploration/qd_073019_timeseries_with_genres.ipynb_"
   ]
  },
  {
   "cell_type": "markdown",
   "metadata": {},
   "source": [
    "This analysis confirms many of our previous observations and assumptions about why these metrics perform poorly for regression analysis. \n",
    "\n",
    "As we can see again in these plots, there is feature convergence to relatively small bands as time progresses. These dense clusters show that genres are becoming more and more difficult to distinguish as the feature set becomes more and more homogeneous.   "
   ]
  },
  {
   "cell_type": "markdown",
   "metadata": {},
   "source": [
    "## Conclusions & Insights  \n",
    "\n",
    "Based on the results of our analysis, we believe that the metrics provided by Spotify are not suitable for these types of regression models. This leaves us with two recommendations for further analysis:  \n",
    "\n",
    "1. It is possible that other machine learning methods may yield better results. Since genres are largely self assigned, it may be reasonable to assume that an unsupervised clustering method could better place tracks into distinct categories. Other, more robust machine learning models (neural networks) may also be able to achieve better results with the provided features.\n",
    "\n",
    "2. Spotify should consider supplementing their current feature set with better metrics. Of note, (and from several years spent in this domain) these metrics do nothing to account for how a given track might change over time. Incorporating metrics that monitor how a track changes from beginning to end (or does not change) could provide significant boosts in predictive power.    "
   ]
  }
 ],
 "metadata": {
  "kernelspec": {
   "display_name": "Python 3",
   "language": "python",
   "name": "python3"
  },
  "language_info": {
   "codemirror_mode": {
    "name": "ipython",
    "version": 3
   },
   "file_extension": ".py",
   "mimetype": "text/x-python",
   "name": "python",
   "nbconvert_exporter": "python",
   "pygments_lexer": "ipython3",
   "version": "3.7.3"
  }
 },
 "nbformat": 4,
 "nbformat_minor": 2
}
