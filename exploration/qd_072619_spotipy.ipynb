{
 "cells": [
  {
   "cell_type": "code",
   "execution_count": 9,
   "metadata": {},
   "outputs": [],
   "source": [
    "import sys\n",
    "sys.path.insert(0, '../')\n",
    "\n",
    "import spotipy\n",
    "import spotipy.util as util\n",
    "from spotipy.oauth2 import SpotifyClientCredentials\n",
    "import spotipy.oauth2 as oauth2\n",
    "\n",
    "\n",
    "from keys.spotify_keys import * "
   ]
  },
  {
   "cell_type": "code",
   "execution_count": 8,
   "metadata": {},
   "outputs": [
    {
     "name": "stdout",
     "output_type": "stream",
     "text": [
      "{'tracks': {'href': 'https://api.spotify.com/v1/search?query=coldplay+yellow&type=track&market=AD&offset=0&limit=1', 'items': [{'album': {'album_type': 'album', 'artists': [{'external_urls': {'spotify': 'https://open.spotify.com/artist/4gzpq5DPGxSnKTe4SA8HAU'}, 'href': 'https://api.spotify.com/v1/artists/4gzpq5DPGxSnKTe4SA8HAU', 'id': '4gzpq5DPGxSnKTe4SA8HAU', 'name': 'Coldplay', 'type': 'artist', 'uri': 'spotify:artist:4gzpq5DPGxSnKTe4SA8HAU'}], 'external_urls': {'spotify': 'https://open.spotify.com/album/6ZG5lRT77aJ3btmArcykra'}, 'href': 'https://api.spotify.com/v1/albums/6ZG5lRT77aJ3btmArcykra', 'id': '6ZG5lRT77aJ3btmArcykra', 'images': [{'height': 640, 'url': 'https://i.scdn.co/image/495b0549379fc4c324445fd7d2bfa219a8c18a90', 'width': 640}, {'height': 300, 'url': 'https://i.scdn.co/image/94ac1cac6fcf2be17533ec6e7d638014b90642a2', 'width': 300}, {'height': 64, 'url': 'https://i.scdn.co/image/68ff8a9ad0e1c8a7196ce5a3f7224b03cc3dec33', 'width': 64}], 'name': 'Parachutes', 'release_date': '2000-07-10', 'release_date_precision': 'day', 'total_tracks': 10, 'type': 'album', 'uri': 'spotify:album:6ZG5lRT77aJ3btmArcykra'}, 'artists': [{'external_urls': {'spotify': 'https://open.spotify.com/artist/4gzpq5DPGxSnKTe4SA8HAU'}, 'href': 'https://api.spotify.com/v1/artists/4gzpq5DPGxSnKTe4SA8HAU', 'id': '4gzpq5DPGxSnKTe4SA8HAU', 'name': 'Coldplay', 'type': 'artist', 'uri': 'spotify:artist:4gzpq5DPGxSnKTe4SA8HAU'}], 'disc_number': 1, 'duration_ms': 266773, 'explicit': False, 'external_ids': {'isrc': 'GBAYE0000267'}, 'external_urls': {'spotify': 'https://open.spotify.com/track/3AJwUDP919kvQ9QcozQPxg'}, 'href': 'https://api.spotify.com/v1/tracks/3AJwUDP919kvQ9QcozQPxg', 'id': '3AJwUDP919kvQ9QcozQPxg', 'is_local': False, 'is_playable': True, 'name': 'Yellow', 'popularity': 78, 'preview_url': 'https://p.scdn.co/mp3-preview/c119ca773ef844108da21c4679dc54c007cf0926?cid=2808d843b1e44cd992634288dfb7bf70', 'track_number': 5, 'type': 'track', 'uri': 'spotify:track:3AJwUDP919kvQ9QcozQPxg'}], 'limit': 1, 'next': 'https://api.spotify.com/v1/search?query=coldplay+yellow&type=track&market=AD&offset=1&limit=1', 'offset': 0, 'previous': None, 'total': 225}}\n"
     ]
    }
   ],
   "source": [
    "market = [ \"AD\", \"AR\", \"AT\", \"AU\", \"BE\", \"BG\", \"BO\", \"BR\", \"CA\", \"CH\", \"CL\", \"CO\", \"CR\", \"CY\", \n",
    "      \"CZ\", \"DE\", \"DK\", \"DO\", \"EC\", \"EE\", \"ES\", \"FI\", \"FR\", \"GB\", \"GR\", \"GT\", \"HK\", \"HN\", \"HU\", \n",
    "      \"ID\", \"IE\", \"IS\", \"IT\", \"JP\", \"LI\", \"LT\", \"LU\", \"LV\", \"MC\", \"MT\", \"MX\", \"MY\", \"NI\", \"NL\", \n",
    "      \"NO\", \"NZ\", \"PA\", \"PE\", \"PH\", \"PL\", \"PT\", \"PY\", \"SE\", \"SG\", \"SK\", \"SV\", \"TH\", \"TR\", \"TW\", \n",
    "      \"US\", \"UY\", \"VN\" ]\n",
    "\n",
    "CLIENT_ID = spotify_keys[\"CLIENT_ID\"]\n",
    "CLIENT_SECRET = spotify_keys[\"CLIENT_SECRET\"]\n",
    "\n",
    "credentials = oauth2.SpotifyClientCredentials(\n",
    "        client_id=CLIENT_ID,\n",
    "        client_secret=CLIENT_SECRET)\n",
    "\n",
    "token = credentials.get_access_token()\n",
    "spotify = spotipy.Spotify(auth=token)\n",
    "\n",
    "track = \"coldplay yellow\"\n",
    "res = spotify.search(track, type=\"track\", market=market, limit=1)\n",
    "\n",
    "print(res)"
   ]
  }
 ],
 "metadata": {
  "kernelspec": {
   "display_name": "Python 3",
   "language": "python",
   "name": "python3"
  },
  "language_info": {
   "codemirror_mode": {
    "name": "ipython",
    "version": 3
   },
   "file_extension": ".py",
   "mimetype": "text/x-python",
   "name": "python",
   "nbconvert_exporter": "python",
   "pygments_lexer": "ipython3",
   "version": "3.7.3"
  }
 },
 "nbformat": 4,
 "nbformat_minor": 2
}
