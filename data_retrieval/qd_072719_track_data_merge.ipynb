{
 "cells": [
  {
   "cell_type": "code",
   "execution_count": 1,
   "metadata": {},
   "outputs": [],
   "source": [
    "import pandas as pd"
   ]
  },
  {
   "cell_type": "code",
   "execution_count": 4,
   "metadata": {},
   "outputs": [],
   "source": [
    "primary = pd.read_csv(\"../data/raw/raw_dropped_duplicates.zip\")"
   ]
  },
  {
   "cell_type": "code",
   "execution_count": 5,
   "metadata": {},
   "outputs": [],
   "source": [
    "tracks_data = pd.read_csv(\"../data/api_calls/tracks_data_full.zip\")"
   ]
  },
  {
   "cell_type": "code",
   "execution_count": 7,
   "metadata": {},
   "outputs": [],
   "source": [
    "primary.merge(tracks_data, on=\"ID\", how=\"left\").to_csv(\"../data/interum/track_data.csv\", index=False)"
   ]
  },
  {
   "cell_type": "markdown",
   "metadata": {},
   "source": [
    "Check data"
   ]
  },
  {
   "cell_type": "code",
   "execution_count": 9,
   "metadata": {},
   "outputs": [
    {
     "name": "stdout",
     "output_type": "stream",
     "text": [
      "<class 'pandas.core.frame.DataFrame'>\n",
      "RangeIndex: 107973 entries, 0 to 107972\n",
      "Data columns (total 24 columns):\n",
      "Name                      107972 non-null object\n",
      "Danceability              107973 non-null float64\n",
      "Energy                    107973 non-null float64\n",
      "Key                       107973 non-null float64\n",
      "Loudness                  107973 non-null float64\n",
      "Mode                      107973 non-null float64\n",
      "Speechness                107973 non-null float64\n",
      "Acousticness              107973 non-null float64\n",
      "Instrumentalness          107973 non-null float64\n",
      "Liveness                  107973 non-null float64\n",
      "Valence                   107973 non-null float64\n",
      "Tempo                     107973 non-null float64\n",
      "Type                      107973 non-null object\n",
      "ID                        107973 non-null object\n",
      "Uri                       107973 non-null object\n",
      "Ref_Track                 107973 non-null object\n",
      "URL_features              107973 non-null object\n",
      "Duration_ms               107973 non-null float64\n",
      "time_signature            107973 non-null float64\n",
      "Genre                     107973 non-null object\n",
      "artist_names              107973 non-null object\n",
      "artist_ids                107973 non-null object\n",
      "release_date              107973 non-null object\n",
      "release_date_precision    107973 non-null object\n",
      "dtypes: float64(13), object(11)\n",
      "memory usage: 19.8+ MB\n"
     ]
    }
   ],
   "source": [
    "pd.read_csv(\"../data/interum/track_data.zip\").info()"
   ]
  }
 ],
 "metadata": {
  "kernelspec": {
   "display_name": "Python 3",
   "language": "python",
   "name": "python3"
  },
  "language_info": {
   "codemirror_mode": {
    "name": "ipython",
    "version": 3
   },
   "file_extension": ".py",
   "mimetype": "text/x-python",
   "name": "python",
   "nbconvert_exporter": "python",
   "pygments_lexer": "ipython3",
   "version": "3.7.3"
  }
 },
 "nbformat": 4,
 "nbformat_minor": 2
}
